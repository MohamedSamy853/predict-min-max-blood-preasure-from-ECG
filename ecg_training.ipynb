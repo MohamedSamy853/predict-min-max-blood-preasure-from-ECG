{
 "cells": [
  {
   "cell_type": "code",
   "execution_count": 1,
   "metadata": {},
   "outputs": [],
   "source": [
    "import numpy as np\n",
    "import matplotlib.pyplot as plt\n",
    "import scipy\n",
    "import tensorflow as tf\n",
    "import pandas as pd\n",
    "import os"
   ]
  },
  {
   "cell_type": "code",
   "execution_count": 2,
   "metadata": {},
   "outputs": [
    {
     "name": "stdout",
     "output_type": "stream",
     "text": [
      "[-0.06060606 -0.07526882 -0.07038123 -0.03519062  0.02443793  0.08993157\n",
      "  0.15493646  0.20478983  0.24975562  0.27468231  0.29472141  0.30498534\n",
      "  0.30987292  0.31964809  0.31964809  0.32502444  0.32502444  0.32502444\n",
      "  0.32502444  0.31964809  0.31964809  0.32991202  0.35483871  0.36999022\n",
      "  0.39002933  0.42473118  0.45014663  0.4599218   0.42473118  0.3597263\n",
      "  0.28983382  0.25464321  0.24975562  0.24975562  0.23998045  0.24486804\n",
      "  0.42473118  0.99022483  1.4457478   1.07038123  0.3797654   0.09481916\n",
      "  0.07478006  0.09970674  0.11485826  0.12463343  0.12952102  0.13978495\n",
      "  0.14467253  0.14956012  0.15493646  0.16471163  0.16471163  0.16471163\n",
      "  0.15982405  0.15493646  0.14467253  0.12463343  0.09481916  0.05962854\n",
      "  0.01466276 -0.03030303 -0.06549365 -0.09042033]\n"
     ]
    }
   ],
   "source": [
    "ecg =[]\n",
    "bp_min = []\n",
    "bp_max = []\n",
    "sample_size  = 64\n",
    "for i in range(4):\n",
    "    data = scipy.io.loadmat(f\"data/part_{i+1}.mat\")['p']\n",
    "    for i in range(1000):\n",
    "        temp_mat = data[0 , i]\n",
    "        temp_length = temp_mat.shape[1]\n",
    "        for j in range((int)(temp_length/sample_size)):\n",
    "            temp_ecg = temp_mat[2, j*sample_size:(j+1)*sample_size]\n",
    "            print(temp_ecg)\n",
    "            break \n",
    "            temp_bp = temp_mat[1, j*sample_size:(j+1)*sample_size]\n",
    "            ecg.append(temp_ecg)\n",
    "            bp_min.append(np.min(temp_bp))\n",
    "            bp_max.append(np.max(temp_bp))\n",
    "        break\n",
    "    break"
   ]
  },
  {
   "cell_type": "code",
   "execution_count": 4,
   "metadata": {},
   "outputs": [
    {
     "data": {
      "text/html": [
       "<div>\n",
       "<style scoped>\n",
       "    .dataframe tbody tr th:only-of-type {\n",
       "        vertical-align: middle;\n",
       "    }\n",
       "\n",
       "    .dataframe tbody tr th {\n",
       "        vertical-align: top;\n",
       "    }\n",
       "\n",
       "    .dataframe thead th {\n",
       "        text-align: right;\n",
       "    }\n",
       "</style>\n",
       "<table border=\"1\" class=\"dataframe\">\n",
       "  <thead>\n",
       "    <tr style=\"text-align: right;\">\n",
       "      <th></th>\n",
       "      <th>data</th>\n",
       "      <th>blood_presure_min</th>\n",
       "      <th>blood_presure_max</th>\n",
       "    </tr>\n",
       "  </thead>\n",
       "  <tbody>\n",
       "    <tr>\n",
       "      <th>0</th>\n",
       "      <td>[-0.06060606060606061, -0.07526881720430108, -...</td>\n",
       "      <td>67.062955</td>\n",
       "      <td>124.601310</td>\n",
       "    </tr>\n",
       "    <tr>\n",
       "      <th>1</th>\n",
       "      <td>[-0.09530791788856305, -0.07038123167155426, -...</td>\n",
       "      <td>66.525670</td>\n",
       "      <td>123.038299</td>\n",
       "    </tr>\n",
       "    <tr>\n",
       "      <th>2</th>\n",
       "      <td>[-0.10019550342130987, -0.045454545454545456, ...</td>\n",
       "      <td>65.597632</td>\n",
       "      <td>120.986846</td>\n",
       "    </tr>\n",
       "    <tr>\n",
       "      <th>3</th>\n",
       "      <td>[0.024437927663734114, 0.06989247311827956, 0....</td>\n",
       "      <td>66.134917</td>\n",
       "      <td>118.349265</td>\n",
       "    </tr>\n",
       "    <tr>\n",
       "      <th>4</th>\n",
       "      <td>[0.28005865102639294, 0.30009775171065495, 0.3...</td>\n",
       "      <td>66.134917</td>\n",
       "      <td>121.621820</td>\n",
       "    </tr>\n",
       "  </tbody>\n",
       "</table>\n",
       "</div>"
      ],
      "text/plain": [
       "                                                data  blood_presure_min   \n",
       "0  [-0.06060606060606061, -0.07526881720430108, -...          67.062955  \\\n",
       "1  [-0.09530791788856305, -0.07038123167155426, -...          66.525670   \n",
       "2  [-0.10019550342130987, -0.045454545454545456, ...          65.597632   \n",
       "3  [0.024437927663734114, 0.06989247311827956, 0....          66.134917   \n",
       "4  [0.28005865102639294, 0.30009775171065495, 0.3...          66.134917   \n",
       "\n",
       "   blood_presure_max  \n",
       "0         124.601310  \n",
       "1         123.038299  \n",
       "2         120.986846  \n",
       "3         118.349265  \n",
       "4         121.621820  "
      ]
     },
     "execution_count": 4,
     "metadata": {},
     "output_type": "execute_result"
    }
   ],
   "source": [
    "res = pd.DataFrame({\"data\": ecg , \"blood_presure_min\":bp_min , \"blood_presure_max\":bp_max})\n",
    "res.head()"
   ]
  },
  {
   "cell_type": "code",
   "execution_count": 5,
   "metadata": {},
   "outputs": [
    {
     "data": {
      "text/plain": [
       "data                  object\n",
       "blood_presure_min    float64\n",
       "blood_presure_max    float64\n",
       "dtype: object"
      ]
     },
     "execution_count": 5,
     "metadata": {},
     "output_type": "execute_result"
    }
   ],
   "source": [
    "res.dtypes"
   ]
  },
  {
   "cell_type": "code",
   "execution_count": 6,
   "metadata": {},
   "outputs": [
    {
     "data": {
      "text/html": [
       "<div>\n",
       "<style scoped>\n",
       "    .dataframe tbody tr th:only-of-type {\n",
       "        vertical-align: middle;\n",
       "    }\n",
       "\n",
       "    .dataframe tbody tr th {\n",
       "        vertical-align: top;\n",
       "    }\n",
       "\n",
       "    .dataframe thead th {\n",
       "        text-align: right;\n",
       "    }\n",
       "</style>\n",
       "<table border=\"1\" class=\"dataframe\">\n",
       "  <thead>\n",
       "    <tr style=\"text-align: right;\">\n",
       "      <th></th>\n",
       "      <th>blood_presure_min</th>\n",
       "      <th>blood_presure_max</th>\n",
       "    </tr>\n",
       "  </thead>\n",
       "  <tbody>\n",
       "    <tr>\n",
       "      <th>count</th>\n",
       "      <td>1770902</td>\n",
       "      <td>1770902</td>\n",
       "    </tr>\n",
       "    <tr>\n",
       "      <th>mean</th>\n",
       "      <td>67</td>\n",
       "      <td>126</td>\n",
       "    </tr>\n",
       "    <tr>\n",
       "      <th>std</th>\n",
       "      <td>12</td>\n",
       "      <td>25</td>\n",
       "    </tr>\n",
       "    <tr>\n",
       "      <th>min</th>\n",
       "      <td>50</td>\n",
       "      <td>54</td>\n",
       "    </tr>\n",
       "    <tr>\n",
       "      <th>25%</th>\n",
       "      <td>59</td>\n",
       "      <td>106</td>\n",
       "    </tr>\n",
       "    <tr>\n",
       "      <th>50%</th>\n",
       "      <td>65</td>\n",
       "      <td>124</td>\n",
       "    </tr>\n",
       "    <tr>\n",
       "      <th>75%</th>\n",
       "      <td>73</td>\n",
       "      <td>144</td>\n",
       "    </tr>\n",
       "    <tr>\n",
       "      <th>max</th>\n",
       "      <td>192</td>\n",
       "      <td>200</td>\n",
       "    </tr>\n",
       "  </tbody>\n",
       "</table>\n",
       "</div>"
      ],
      "text/plain": [
       "       blood_presure_min  blood_presure_max\n",
       "count            1770902            1770902\n",
       "mean                  67                126\n",
       "std                   12                 25\n",
       "min                   50                 54\n",
       "25%                   59                106\n",
       "50%                   65                124\n",
       "75%                   73                144\n",
       "max                  192                200"
      ]
     },
     "execution_count": 6,
     "metadata": {},
     "output_type": "execute_result"
    }
   ],
   "source": [
    "res.describe(include=['number']).round().astype(int)"
   ]
  },
  {
   "cell_type": "code",
   "execution_count": 7,
   "metadata": {},
   "outputs": [
    {
     "data": {
      "text/plain": [
       "(1770902, 3)"
      ]
     },
     "execution_count": 7,
     "metadata": {},
     "output_type": "execute_result"
    }
   ],
   "source": [
    "res.shape"
   ]
  },
  {
   "cell_type": "code",
   "execution_count": 8,
   "metadata": {},
   "outputs": [],
   "source": [
    "res = res.sample(1000000)"
   ]
  },
  {
   "cell_type": "code",
   "execution_count": 9,
   "metadata": {},
   "outputs": [
    {
     "data": {
      "text/plain": [
       "996779"
      ]
     },
     "execution_count": 9,
     "metadata": {},
     "output_type": "execute_result"
    }
   ],
   "source": [
    "min_blood_mask = res['blood_presure_min'].between(50, 120, inclusive=\"both\")\n",
    "max_blood_mask = res['blood_presure_max'].between(60, 200, inclusive='left')\n",
    "mask = np.logical_and(min_blood_mask , max_blood_mask)\n",
    "mask.sum()"
   ]
  },
  {
   "cell_type": "code",
   "execution_count": 10,
   "metadata": {},
   "outputs": [
    {
     "name": "stdout",
     "output_type": "stream",
     "text": [
      "(996779, 3)\n"
     ]
    }
   ],
   "source": [
    "df = res[mask]\n",
    "print(df.shape)"
   ]
  },
  {
   "cell_type": "code",
   "execution_count": 11,
   "metadata": {},
   "outputs": [],
   "source": [
    "#build model/\n",
    "\n",
    "def conv_block(x , num_filters):\n",
    "    x = tf.keras.layers.Conv1D(num_filters , kernel_size=3 , strides=1 ,padding=\"same\",kernel_regularizer=tf.keras.regularizers.l1_l2())(x)\n",
    "    x = tf.keras.layers.ReLU()(x)\n",
    "    x = tf.keras.layers.BatchNormalization()(x)\n",
    "    return x "
   ]
  },
  {
   "cell_type": "code",
   "execution_count": 13,
   "metadata": {},
   "outputs": [],
   "source": [
    "class HyperLoss(tf.keras.losses.Loss):\n",
    "    def __init__(self , threshold=5,**kwargs):\n",
    "        self.threshold = threshold\n",
    "        super(HyperLoss ,self).__init__(**kwargs)\n",
    "    def call(self, y_true ,  y_pred):\n",
    "        error = y_true - y_pred\n",
    "        is_samll = tf.abs(error)<self.threshold\n",
    "        square_loss = tf.square(error)/2.0\n",
    "        linear_loss = self.threshold * tf.abs(error) - self.threshold**2 / 2.0\n",
    "        return tf.where(is_samll , square_loss , linear_loss)\n",
    "    def get_config(self):\n",
    "        base_config = super().get_config()\n",
    "        return {**base_config, \"threshold\":self.threshold}\n",
    "\n"
   ]
  },
  {
   "cell_type": "code",
   "execution_count": 17,
   "metadata": {},
   "outputs": [],
   "source": [
    "new_model = tf.keras.models.load_model(\"ecg_model2\",custom_objects={\"HyperLoss\":HyperLoss()})"
   ]
  },
  {
   "cell_type": "code",
   "execution_count": null,
   "metadata": {},
   "outputs": [],
   "source": []
  },
  {
   "cell_type": "code",
   "execution_count": null,
   "metadata": {},
   "outputs": [],
   "source": [
    "def res_block(x , filters, shortcut_filter):\n",
    "    y = x \n",
    "    for i in filters:\n",
    "        x = conv_block(x, i)\n",
    "    y = tf.keras.layers.Conv1D(shortcut_filter,kernel_size=1 ,padding='same')(y)\n",
    "    y = tf.keras.layers.ReLU()(y)\n",
    "    y = tf.keras.layers.BatchNormalization()(y)\n",
    "    res = tf.keras.layers.Add()([x, y])\n",
    "    return res"
   ]
  },
  {
   "cell_type": "code",
   "execution_count": null,
   "metadata": {},
   "outputs": [],
   "source": [
    "def sequence_unit(x ,n_units):\n",
    "    x = tf.keras.layers.Bidirectional(tf.keras.layers.LSTM(n_units , activation=\"tanh\",return_sequences=True))(x)\n",
    "    x = tf.keras.layers.BatchNormalization()(x)\n",
    "    return x "
   ]
  },
  {
   "cell_type": "code",
   "execution_count": null,
   "metadata": {},
   "outputs": [],
   "source": [
    "def build_model():\n",
    "    input_ = tf.keras.layers.Input(shape=(sample_size,1))\n",
    "    input_ = tf.keras.layers.BatchNormalization()(input_)\n",
    "    y = sequence_unit(input_ , 64)\n",
    "    y = tf.keras.layers.Dropout(0.5)(y)\n",
    "    y = sequence_unit(y , 128)\n",
    "    y = tf.keras.layers.Conv1D(256 ,kernel_size=1 , padding='same', activation=\"relu\")(y)\n",
    "    x = tf.keras.layers.Conv1D(filters=16 , kernel_size=3 , padding='same')(input_)\n",
    "    x = res_block(x, [16, 16 , 32], 32)\n",
    "    x = tf.keras.layers.Dropout(0.5)(x)\n",
    "    x = res_block(x , [32, 64, 64] , 64)\n",
    "    x = res_block(x , [64 , 128, 128] , 128)\n",
    "    x = res_block(x , [128] , 128)\n",
    "    x = tf.keras.layers.Dropout(0.4)(x)\n",
    "    x = tf.keras.layers.Concatenate()([x,y])\n",
    "    x = tf.keras.layers.Flatten()(x)\n",
    "    x = tf.keras.layers.Dropout(0.4)(x)\n",
    "    x = tf.keras.layers.Dense(64 , activation=\"relu\")(x)\n",
    "    x = tf.keras.layers.Dropout(0.5)(x)\n",
    "    out1 = tf.keras.layers.Dense(1 , activation=\"relu\",name =\"min\")(x)\n",
    "    out2 = tf.keras.layers.Dense(1 , activation=\"relu\",name =\"max\")(x)\n",
    "    model = tf.keras.models.Model(inputs=[input_], outputs={\"min\":out1 , \"max\":out2})\n",
    "    return model\n",
    "    \n"
   ]
  },
  {
   "cell_type": "code",
   "execution_count": null,
   "metadata": {},
   "outputs": [],
   "source": [
    "model = build_model()\n",
    "model.summary()"
   ]
  },
  {
   "cell_type": "code",
   "execution_count": 19,
   "metadata": {},
   "outputs": [
    {
     "data": {
      "text/plain": [
       "(996779, 64)"
      ]
     },
     "execution_count": 19,
     "metadata": {},
     "output_type": "execute_result"
    }
   ],
   "source": [
    "#get data \n",
    "ecgset = np.array(df['data'].to_list())\n",
    "ecgset.shape"
   ]
  },
  {
   "cell_type": "code",
   "execution_count": 20,
   "metadata": {},
   "outputs": [
    {
     "data": {
      "text/plain": [
       "(996779, 1)"
      ]
     },
     "execution_count": 20,
     "metadata": {},
     "output_type": "execute_result"
    }
   ],
   "source": [
    "bp_min_set = np.array(df['blood_presure_min']).reshape(-1,1)\n",
    "bp_min_set.shape"
   ]
  },
  {
   "cell_type": "code",
   "execution_count": 21,
   "metadata": {},
   "outputs": [
    {
     "data": {
      "text/plain": [
       "(996779, 1)"
      ]
     },
     "execution_count": 21,
     "metadata": {},
     "output_type": "execute_result"
    }
   ],
   "source": [
    "bp_max_set = np.array(df['blood_presure_max']).reshape(-1,1)\n",
    "bp_max_set.shape"
   ]
  },
  {
   "cell_type": "code",
   "execution_count": null,
   "metadata": {},
   "outputs": [],
   "source": []
  },
  {
   "cell_type": "code",
   "execution_count": null,
   "metadata": {},
   "outputs": [],
   "source": [
    "class HyperLoss(tf.keras.losses.Loss):\n",
    "    def __init__(self , threshold=5,**kwargs):\n",
    "        self.threshold = threshold\n",
    "        super(HyperLoss ,self).__init__(**kwargs)\n",
    "    def call(self, y_true ,  y_pred):\n",
    "        error = y_true - y_pred\n",
    "        is_samll = tf.abs(error)<self.threshold\n",
    "        square_loss = tf.square(error)/2.0\n",
    "        linear_loss = self.threshold * tf.abs(error) - self.threshold**2 / 2.0\n",
    "        return tf.where(is_samll , square_loss , linear_loss)\n",
    "    def get_config(self):\n",
    "        base_config = super().get_config()\n",
    "        return {**base_config, \"threshold\":self.threshold}\n",
    "\n"
   ]
  },
  {
   "cell_type": "code",
   "execution_count": null,
   "metadata": {},
   "outputs": [],
   "source": [
    "model.compile(optimizer = tf.keras.optimizers.Adam(1e-3), loss=HyperLoss(), metrics=['mse','mae'])"
   ]
  },
  {
   "cell_type": "code",
   "execution_count": null,
   "metadata": {},
   "outputs": [],
   "source": [
    "data_points = 300000"
   ]
  },
  {
   "cell_type": "code",
   "execution_count": null,
   "metadata": {},
   "outputs": [],
   "source": [
    "callbacks = [tf.keras.callbacks.EarlyStopping(monitor=\"val_loss\", patience=3, mode = \"min\") ,\n",
    "               tf.keras.callbacks.ModelCheckpoint(\"ecg_model\", monitor=\"val_loss\", save_best_only=True)]"
   ]
  },
  {
   "cell_type": "code",
   "execution_count": 22,
   "metadata": {},
   "outputs": [
    {
     "data": {
      "text/plain": [
       "{'min': <tf.Tensor: shape=(1, 1), dtype=float32, numpy=array([[58.90689]], dtype=float32)>,\n",
       " 'max': <tf.Tensor: shape=(1, 1), dtype=float32, numpy=array([[97.18229]], dtype=float32)>}"
      ]
     },
     "execution_count": 22,
     "metadata": {},
     "output_type": "execute_result"
    }
   ],
   "source": [
    "test = np.expand_dims(ecgset[0].reshape(64,1) , 0)\n",
    "new_model(test)"
   ]
  },
  {
   "cell_type": "code",
   "execution_count": 24,
   "metadata": {},
   "outputs": [
    {
     "data": {
      "text/plain": [
       "(996779, 64, 1)"
      ]
     },
     "execution_count": 24,
     "metadata": {},
     "output_type": "execute_result"
    }
   ],
   "source": [
    "ecgset_prep = ecgset.reshape(-1, 64 ,1)\n",
    "ecgset_prep.shape"
   ]
  },
  {
   "cell_type": "code",
   "execution_count": null,
   "metadata": {},
   "outputs": [],
   "source": [
    "model(ecgset_prep[:3])"
   ]
  },
  {
   "cell_type": "code",
   "execution_count": null,
   "metadata": {},
   "outputs": [],
   "source": [
    "bp_max_set.shape"
   ]
  },
  {
   "cell_type": "code",
   "execution_count": null,
   "metadata": {},
   "outputs": [],
   "source": [
    "data_points*0.01"
   ]
  },
  {
   "cell_type": "code",
   "execution_count": 84,
   "metadata": {},
   "outputs": [
    {
     "name": "stdout",
     "output_type": "stream",
     "text": [
      "4641/4641 [==============================] - 10599s 2s/step - loss: 125.7342 - max_loss: 90.1674 - min_loss: 32.9896 - max_mse: 669.6264 - max_mae: 20.3966 - min_mse: 134.8081 - min_mae: 8.7809 - val_loss: 98.9437 - val_max_loss: 67.3273 - val_min_loss: 29.0242 - val_max_mse: 408.8259 - val_max_mae: 15.7896 - val_min_mse: 114.9258 - val_min_mae: 7.9468\n",
      "Epoch 17/20\n",
      "4641/4641 [==============================] - ETA: 0s - loss: 123.5234 - max_loss: 88.5565 - min_loss: 32.3802 - max_mse: 650.6627 - max_mae: 20.0737 - min_mse: 131.2875 - min_mae: 8.6518"
     ]
    },
    {
     "name": "stderr",
     "output_type": "stream",
     "text": [
      "WARNING:absl:Found untraced functions such as _jit_compiled_convolution_op, _jit_compiled_convolution_op, _jit_compiled_convolution_op, _jit_compiled_convolution_op, _jit_compiled_convolution_op while saving (showing 5 of 25). These functions will not be directly callable after loading.\n"
     ]
    },
    {
     "name": "stdout",
     "output_type": "stream",
     "text": [
      "INFO:tensorflow:Assets written to: ecg_model\\assets\n"
     ]
    },
    {
     "name": "stderr",
     "output_type": "stream",
     "text": [
      "INFO:tensorflow:Assets written to: ecg_model\\assets\n"
     ]
    },
    {
     "name": "stdout",
     "output_type": "stream",
     "text": [
      "4641/4641 [==============================] - 10943s 2s/step - loss: 123.5234 - max_loss: 88.5565 - min_loss: 32.3802 - max_mse: 650.6627 - max_mae: 20.0737 - min_mse: 131.2875 - min_mae: 8.6518 - val_loss: 97.9852 - val_max_loss: 67.1018 - val_min_loss: 28.2602 - val_max_mse: 410.4089 - val_max_mae: 15.7271 - val_min_mse: 111.2037 - val_min_mae: 7.7762\n",
      "Epoch 18/20\n",
      "2740/4641 [================>.............] - ETA: 1:22:32 - loss: 121.9739 - max_loss: 87.4941 - min_loss: 31.8452 - max_mse: 637.2076 - max_mae: 19.8595 - min_mse: 128.3233 - min_mae: 8.5437\n",
      "model is stoped \n"
     ]
    }
   ],
   "source": [
    "try :\n",
    "    history = model.fit(ecgset_prep[:data_points] , y={\"min\":bp_min_set[:data_points] , \"max\":bp_max_set[:data_points]}, \n",
    "                    batch_size=64,epochs=20 ,\n",
    "                    callbacks=callbacks , \n",
    "                    validation_split=0.01\n",
    "           )\n",
    "except KeyboardInterrupt :\n",
    "    print(\"\\nmodel is stoped \")\n"
   ]
  },
  {
   "cell_type": "code",
   "execution_count": 27,
   "metadata": {},
   "outputs": [
    {
     "data": {
      "text/plain": [
       "({'min': <tf.Tensor: shape=(3, 1), dtype=float32, numpy=\n",
       "  array([[58.90689],\n",
       "         [67.18769],\n",
       "         [73.33036]], dtype=float32)>,\n",
       "  'max': <tf.Tensor: shape=(3, 1), dtype=float32, numpy=\n",
       "  array([[ 97.18229],\n",
       "         [133.36284],\n",
       "         [137.70827]], dtype=float32)>},\n",
       " array([[66.52560503],\n",
       "        [52.34129101],\n",
       "        [76.46680343]]),\n",
       " array([[136.86104647],\n",
       "        [ 98.00071508],\n",
       "        [116.75366151]]))"
      ]
     },
     "execution_count": 27,
     "metadata": {},
     "output_type": "execute_result"
    }
   ],
   "source": [
    "new_model(ecgset_prep[:3]) , bp_min_set[:3], bp_max_set[:3]"
   ]
  },
  {
   "cell_type": "code",
   "execution_count": 28,
   "metadata": {},
   "outputs": [],
   "source": [
    "for layer in new_model.layers:\n",
    "    layer.trainable=True"
   ]
  },
  {
   "cell_type": "code",
   "execution_count": 30,
   "metadata": {},
   "outputs": [],
   "source": [
    "valid_ecg = ecgset_prep[sample_size:sample_size+1000]\n",
    "valid_min = bp_min_set[sample_size:sample_size+1000]\n",
    "valid_max = bp_max_set[sample_size:sample_size+1000]\n"
   ]
  },
  {
   "cell_type": "code",
   "execution_count": 31,
   "metadata": {},
   "outputs": [
    {
     "name": "stdout",
     "output_type": "stream",
     "text": [
      "32/32 [==============================] - 5s 57ms/step\n"
     ]
    }
   ],
   "source": [
    "predicted = new_model.predict(valid_ecg)"
   ]
  },
  {
   "cell_type": "code",
   "execution_count": 34,
   "metadata": {},
   "outputs": [],
   "source": [
    "pred_min = predicted['min']\n",
    "pred_max = predicted['max']"
   ]
  },
  {
   "cell_type": "code",
   "execution_count": 35,
   "metadata": {},
   "outputs": [],
   "source": [
    "from sklearn.metrics import r2_score\n",
    "min_ = r2_score(valid_min, pred_min)"
   ]
  },
  {
   "cell_type": "code",
   "execution_count": 36,
   "metadata": {},
   "outputs": [],
   "source": [
    "max_ = r2_score(valid_max, pred_max)"
   ]
  },
  {
   "cell_type": "code",
   "execution_count": 37,
   "metadata": {},
   "outputs": [
    {
     "data": {
      "text/plain": [
       "(-0.27242630741207297, -0.2712295123453585)"
      ]
     },
     "execution_count": 37,
     "metadata": {},
     "output_type": "execute_result"
    }
   ],
   "source": [
    "min_ , max_"
   ]
  },
  {
   "cell_type": "code",
   "execution_count": 48,
   "metadata": {},
   "outputs": [
    {
     "data": {
      "text/plain": [
       "<matplotlib.legend.Legend at 0x1848f142370>"
      ]
     },
     "execution_count": 48,
     "metadata": {},
     "output_type": "execute_result"
    },
    {
     "data": {
      "image/png": "[encoded data removed]",
      "text/plain": [
       "<Figure size 640x480 with 1 Axes>"
      ]
     },
     "metadata": {},
     "output_type": "display_data"
    }
   ],
   "source": [
    "fig, ax = plt.subplots(1,1)\n",
    "ax.hist(pred_min , label=\"pred\",color=\"r\",alpha=0.5)\n",
    "ax.hist(valid_min , label=\"true\",color=\"g\",alpha=0.3)\n",
    "ax.legend(['pred',\"true\"])"
   ]
  },
  {
   "cell_type": "code",
   "execution_count": 49,
   "metadata": {},
   "outputs": [
    {
     "data": {
      "text/plain": [
       "<matplotlib.legend.Legend at 0x1846d0eeac0>"
      ]
     },
     "execution_count": 49,
     "metadata": {},
     "output_type": "execute_result"
    },
    {
     "data": {
      "image/png": "[encoded data removed]",
      "text/plain": [
       "<Figure size 640x480 with 1 Axes>"
      ]
     },
     "metadata": {},
     "output_type": "display_data"
    }
   ],
   "source": [
    "fig, ax = plt.subplots(1,1)\n",
    "ax.hist(pred_max , label=\"pred\",color=\"r\",alpha=0.5)\n",
    "ax.hist(valid_max , label=\"true\",color=\"g\",alpha=0.3)\n",
    "ax.legend(['pred',\"true\"])"
   ]
  },
  {
   "cell_type": "code",
   "execution_count": 3,
   "metadata": {},
   "outputs": [
    {
     "name": "stdout",
     "output_type": "stream",
     "text": [
      "[]\n"
     ]
    }
   ],
   "source": [
    "import tensorflow as tf\n",
    "tf.test.is_gpu_available(\n",
    "    cuda_only=False, min_cuda_compute_capability=None\n",
    ")\n",
    "print(tf.config.list_physical_devices('GPU'))"
   ]
  },
  {
   "cell_type": "code",
   "execution_count": 2,
   "metadata": {},
   "outputs": [
    {
     "data": {
      "text/plain": [
       "[]"
      ]
     },
     "execution_count": 2,
     "metadata": {},
     "output_type": "execute_result"
    }
   ],
   "source": [
    "tf.config.list_physical_devices('GPU')"
   ]
  },
  {
   "cell_type": "code",
   "execution_count": null,
   "metadata": {},
   "outputs": [],
   "source": []
  }
 ],
 "metadata": {
  "kernelspec": {
   "display_name": "base",
   "language": "python",
   "name": "python3"
  },
  "language_info": {
   "codemirror_mode": {
    "name": "ipython",
    "version": 3
   },
   "file_extension": ".py",
   "mimetype": "text/x-python",
   "name": "python",
   "nbconvert_exporter": "python",
   "pygments_lexer": "ipython3",
   "version": "3.9.13"
  },
  "orig_nbformat": 4,
  "vscode": {
   "interpreter": {
    "hash": "57bc2b6ce032b5f0e93daa91901b7ea38a856826ef43aa9e95b6d3999f5310df"
   }
  }
 },
 "nbformat": 4,
 "nbformat_minor": 2
}
