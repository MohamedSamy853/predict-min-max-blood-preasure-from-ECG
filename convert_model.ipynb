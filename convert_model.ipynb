{
 "cells": [
  {
   "cell_type": "code",
   "execution_count": 2,
   "metadata": {},
   "outputs": [],
   "source": [
    "import tensorflow as tf\n",
    "import numpy as np\n",
    "import pandas as pd\n",
    "from pathlib import Path"
   ]
  },
  {
   "cell_type": "code",
   "execution_count": 3,
   "metadata": {},
   "outputs": [],
   "source": [
    "class HyperLoss(tf.keras.losses.Loss):\n",
    "    def __init__(self , threshold=5,**kwargs):\n",
    "        self.threshold = threshold\n",
    "        super(HyperLoss ,self).__init__(**kwargs)\n",
    "    def call(self, y_true ,  y_pred):\n",
    "        error = y_true - y_pred\n",
    "        is_samll = tf.abs(error)<self.threshold\n",
    "        square_loss = tf.square(error)/2.0\n",
    "        linear_loss = self.threshold * tf.abs(error) - self.threshold**2 / 2.0\n",
    "        return tf.where(is_samll , square_loss , linear_loss)\n",
    "    def get_config(self):\n",
    "        base_config = super().get_config()\n",
    "        return {**base_config, \"threshold\":self.threshold}\n"
   ]
  },
  {
   "cell_type": "code",
   "execution_count": 5,
   "metadata": {},
   "outputs": [],
   "source": [
    "model = tf.keras.models.load_model(\"modelv2.h5\" , custom_objects={\"HyperLoss\":HyperLoss()})"
   ]
  },
  {
   "cell_type": "code",
   "execution_count": 7,
   "metadata": {},
   "outputs": [
    {
     "name": "stdout",
     "output_type": "stream",
     "text": [
      "Model: \"model\"\n",
      "__________________________________________________________________________________________________\n",
      " Layer (type)                   Output Shape         Param #     Connected to                     \n",
      "==================================================================================================\n",
      " input_1 (InputLayer)           [(None, 64, 1)]      0           []                               \n",
      "                                                                                                  \n",
      " conv1d_1 (Conv1D)              (None, 64, 16)       64          ['input_1[0][0]']                \n",
      "                                                                                                  \n",
      " conv1d_2 (Conv1D)              (None, 64, 16)       784         ['conv1d_1[0][0]']               \n",
      "                                                                                                  \n",
      " re_lu (ReLU)                   (None, 64, 16)       0           ['conv1d_2[0][0]']               \n",
      "                                                                                                  \n",
      " conv1d_3 (Conv1D)              (None, 64, 16)       784         ['re_lu[0][0]']                  \n",
      "                                                                                                  \n",
      " re_lu_1 (ReLU)                 (None, 64, 16)       0           ['conv1d_3[0][0]']               \n",
      "                                                                                                  \n",
      " batch_normalization_2 (BatchNo  (None, 64, 16)      64          ['re_lu_1[0][0]']                \n",
      " rmalization)                                                                                     \n",
      "                                                                                                  \n",
      " conv1d_4 (Conv1D)              (None, 64, 16)       784         ['batch_normalization_2[0][0]']  \n",
      "                                                                                                  \n",
      " re_lu_2 (ReLU)                 (None, 64, 16)       0           ['conv1d_4[0][0]']               \n",
      "                                                                                                  \n",
      " conv1d_5 (Conv1D)              (None, 64, 16)       784         ['re_lu_2[0][0]']                \n",
      "                                                                                                  \n",
      " re_lu_3 (ReLU)                 (None, 64, 16)       0           ['conv1d_5[0][0]']               \n",
      "                                                                                                  \n",
      " batch_normalization_3 (BatchNo  (None, 64, 16)      64          ['re_lu_3[0][0]']                \n",
      " rmalization)                                                                                     \n",
      "                                                                                                  \n",
      " conv1d_6 (Conv1D)              (None, 64, 32)       1568        ['batch_normalization_3[0][0]']  \n",
      "                                                                                                  \n",
      " re_lu_4 (ReLU)                 (None, 64, 32)       0           ['conv1d_6[0][0]']               \n",
      "                                                                                                  \n",
      " conv1d_7 (Conv1D)              (None, 64, 32)       3104        ['re_lu_4[0][0]']                \n",
      "                                                                                                  \n",
      " conv1d_8 (Conv1D)              (None, 64, 32)       544         ['conv1d_1[0][0]']               \n",
      "                                                                                                  \n",
      " re_lu_5 (ReLU)                 (None, 64, 32)       0           ['conv1d_7[0][0]']               \n",
      "                                                                                                  \n",
      " re_lu_6 (ReLU)                 (None, 64, 32)       0           ['conv1d_8[0][0]']               \n",
      "                                                                                                  \n",
      " batch_normalization_4 (BatchNo  (None, 64, 32)      128         ['re_lu_5[0][0]']                \n",
      " rmalization)                                                                                     \n",
      "                                                                                                  \n",
      " batch_normalization_5 (BatchNo  (None, 64, 32)      128         ['re_lu_6[0][0]']                \n",
      " rmalization)                                                                                     \n",
      "                                                                                                  \n",
      " dropout_1 (Dropout)            (None, 64, 32)       0           ['batch_normalization_4[0][0]']  \n",
      "                                                                                                  \n",
      " dropout_2 (Dropout)            (None, 64, 32)       0           ['batch_normalization_5[0][0]']  \n",
      "                                                                                                  \n",
      " add (Add)                      (None, 64, 32)       0           ['dropout_1[0][0]',              \n",
      "                                                                  'dropout_2[0][0]']              \n",
      "                                                                                                  \n",
      " dropout_3 (Dropout)            (None, 64, 32)       0           ['add[0][0]']                    \n",
      "                                                                                                  \n",
      " conv1d_9 (Conv1D)              (None, 64, 32)       3104        ['dropout_3[0][0]']              \n",
      "                                                                                                  \n",
      " re_lu_7 (ReLU)                 (None, 64, 32)       0           ['conv1d_9[0][0]']               \n",
      "                                                                                                  \n",
      " conv1d_10 (Conv1D)             (None, 64, 32)       3104        ['re_lu_7[0][0]']                \n",
      "                                                                                                  \n",
      " re_lu_8 (ReLU)                 (None, 64, 32)       0           ['conv1d_10[0][0]']              \n",
      "                                                                                                  \n",
      " batch_normalization_6 (BatchNo  (None, 64, 32)      128         ['re_lu_8[0][0]']                \n",
      " rmalization)                                                                                     \n",
      "                                                                                                  \n",
      " conv1d_11 (Conv1D)             (None, 64, 64)       6208        ['batch_normalization_6[0][0]']  \n",
      "                                                                                                  \n",
      " re_lu_9 (ReLU)                 (None, 64, 64)       0           ['conv1d_11[0][0]']              \n",
      "                                                                                                  \n",
      " conv1d_12 (Conv1D)             (None, 64, 64)       12352       ['re_lu_9[0][0]']                \n",
      "                                                                                                  \n",
      " re_lu_10 (ReLU)                (None, 64, 64)       0           ['conv1d_12[0][0]']              \n",
      "                                                                                                  \n",
      " batch_normalization_7 (BatchNo  (None, 64, 64)      256         ['re_lu_10[0][0]']               \n",
      " rmalization)                                                                                     \n",
      "                                                                                                  \n",
      " conv1d_13 (Conv1D)             (None, 64, 64)       12352       ['batch_normalization_7[0][0]']  \n",
      "                                                                                                  \n",
      " re_lu_11 (ReLU)                (None, 64, 64)       0           ['conv1d_13[0][0]']              \n",
      "                                                                                                  \n",
      " conv1d_14 (Conv1D)             (None, 64, 64)       12352       ['re_lu_11[0][0]']               \n",
      "                                                                                                  \n",
      " conv1d_15 (Conv1D)             (None, 64, 64)       2112        ['dropout_3[0][0]']              \n",
      "                                                                                                  \n",
      " re_lu_12 (ReLU)                (None, 64, 64)       0           ['conv1d_14[0][0]']              \n",
      "                                                                                                  \n",
      " re_lu_13 (ReLU)                (None, 64, 64)       0           ['conv1d_15[0][0]']              \n",
      "                                                                                                  \n",
      " batch_normalization_8 (BatchNo  (None, 64, 64)      256         ['re_lu_12[0][0]']               \n",
      " rmalization)                                                                                     \n",
      "                                                                                                  \n",
      " batch_normalization_9 (BatchNo  (None, 64, 64)      256         ['re_lu_13[0][0]']               \n",
      " rmalization)                                                                                     \n",
      "                                                                                                  \n",
      " dropout_4 (Dropout)            (None, 64, 64)       0           ['batch_normalization_8[0][0]']  \n",
      "                                                                                                  \n",
      " dropout_5 (Dropout)            (None, 64, 64)       0           ['batch_normalization_9[0][0]']  \n",
      "                                                                                                  \n",
      " add_1 (Add)                    (None, 64, 64)       0           ['dropout_4[0][0]',              \n",
      "                                                                  'dropout_5[0][0]']              \n",
      "                                                                                                  \n",
      " dropout_6 (Dropout)            (None, 64, 64)       0           ['add_1[0][0]']                  \n",
      "                                                                                                  \n",
      " conv1d_16 (Conv1D)             (None, 64, 64)       12352       ['dropout_6[0][0]']              \n",
      "                                                                                                  \n",
      " re_lu_14 (ReLU)                (None, 64, 64)       0           ['conv1d_16[0][0]']              \n",
      "                                                                                                  \n",
      " conv1d_17 (Conv1D)             (None, 64, 64)       12352       ['re_lu_14[0][0]']               \n",
      "                                                                                                  \n",
      " re_lu_15 (ReLU)                (None, 64, 64)       0           ['conv1d_17[0][0]']              \n",
      "                                                                                                  \n",
      " batch_normalization_10 (BatchN  (None, 64, 64)      256         ['re_lu_15[0][0]']               \n",
      " ormalization)                                                                                    \n",
      "                                                                                                  \n",
      " conv1d_18 (Conv1D)             (None, 64, 128)      24704       ['batch_normalization_10[0][0]'] \n",
      "                                                                                                  \n",
      " re_lu_16 (ReLU)                (None, 64, 128)      0           ['conv1d_18[0][0]']              \n",
      "                                                                                                  \n",
      " conv1d_19 (Conv1D)             (None, 64, 128)      49280       ['re_lu_16[0][0]']               \n",
      "                                                                                                  \n",
      " re_lu_17 (ReLU)                (None, 64, 128)      0           ['conv1d_19[0][0]']              \n",
      "                                                                                                  \n",
      " batch_normalization_11 (BatchN  (None, 64, 128)     512         ['re_lu_17[0][0]']               \n",
      " ormalization)                                                                                    \n",
      "                                                                                                  \n",
      " conv1d_20 (Conv1D)             (None, 64, 128)      49280       ['batch_normalization_11[0][0]'] \n",
      "                                                                                                  \n",
      " re_lu_18 (ReLU)                (None, 64, 128)      0           ['conv1d_20[0][0]']              \n",
      "                                                                                                  \n",
      " conv1d_21 (Conv1D)             (None, 64, 128)      49280       ['re_lu_18[0][0]']               \n",
      "                                                                                                  \n",
      " conv1d_22 (Conv1D)             (None, 64, 128)      8320        ['dropout_6[0][0]']              \n",
      "                                                                                                  \n",
      " re_lu_19 (ReLU)                (None, 64, 128)      0           ['conv1d_21[0][0]']              \n",
      "                                                                                                  \n",
      " re_lu_20 (ReLU)                (None, 64, 128)      0           ['conv1d_22[0][0]']              \n",
      "                                                                                                  \n",
      " batch_normalization_12 (BatchN  (None, 64, 128)     512         ['re_lu_19[0][0]']               \n",
      " ormalization)                                                                                    \n",
      "                                                                                                  \n",
      " batch_normalization_13 (BatchN  (None, 64, 128)     512         ['re_lu_20[0][0]']               \n",
      " ormalization)                                                                                    \n",
      "                                                                                                  \n",
      " dropout_7 (Dropout)            (None, 64, 128)      0           ['batch_normalization_12[0][0]'] \n",
      "                                                                                                  \n",
      " dropout_8 (Dropout)            (None, 64, 128)      0           ['batch_normalization_13[0][0]'] \n",
      "                                                                                                  \n",
      " add_2 (Add)                    (None, 64, 128)      0           ['dropout_7[0][0]',              \n",
      "                                                                  'dropout_8[0][0]']              \n",
      "                                                                                                  \n",
      " dropout_9 (Dropout)            (None, 64, 128)      0           ['add_2[0][0]']                  \n",
      "                                                                                                  \n",
      " conv1d_23 (Conv1D)             (None, 64, 128)      49280       ['dropout_9[0][0]']              \n",
      "                                                                                                  \n",
      " re_lu_21 (ReLU)                (None, 64, 128)      0           ['conv1d_23[0][0]']              \n",
      "                                                                                                  \n",
      " conv1d_24 (Conv1D)             (None, 64, 128)      49280       ['re_lu_21[0][0]']               \n",
      "                                                                                                  \n",
      " re_lu_22 (ReLU)                (None, 64, 128)      0           ['conv1d_24[0][0]']              \n",
      "                                                                                                  \n",
      " batch_normalization_14 (BatchN  (None, 64, 128)     512         ['re_lu_22[0][0]']               \n",
      " ormalization)                                                                                    \n",
      "                                                                                                  \n",
      " conv1d_25 (Conv1D)             (None, 64, 256)      98560       ['batch_normalization_14[0][0]'] \n",
      "                                                                                                  \n",
      " re_lu_23 (ReLU)                (None, 64, 256)      0           ['conv1d_25[0][0]']              \n",
      "                                                                                                  \n",
      " conv1d_26 (Conv1D)             (None, 64, 256)      196864      ['re_lu_23[0][0]']               \n",
      "                                                                                                  \n",
      " re_lu_24 (ReLU)                (None, 64, 256)      0           ['conv1d_26[0][0]']              \n",
      "                                                                                                  \n",
      " batch_normalization_15 (BatchN  (None, 64, 256)     1024        ['re_lu_24[0][0]']               \n",
      " ormalization)                                                                                    \n",
      "                                                                                                  \n",
      " conv1d_27 (Conv1D)             (None, 64, 256)      196864      ['batch_normalization_15[0][0]'] \n",
      "                                                                                                  \n",
      " re_lu_25 (ReLU)                (None, 64, 256)      0           ['conv1d_27[0][0]']              \n",
      "                                                                                                  \n",
      " conv1d_28 (Conv1D)             (None, 64, 256)      196864      ['re_lu_25[0][0]']               \n",
      "                                                                                                  \n",
      " conv1d_29 (Conv1D)             (None, 64, 256)      33024       ['dropout_9[0][0]']              \n",
      "                                                                                                  \n",
      " re_lu_26 (ReLU)                (None, 64, 256)      0           ['conv1d_28[0][0]']              \n",
      "                                                                                                  \n",
      " re_lu_27 (ReLU)                (None, 64, 256)      0           ['conv1d_29[0][0]']              \n",
      "                                                                                                  \n",
      " batch_normalization_16 (BatchN  (None, 64, 256)     1024        ['re_lu_26[0][0]']               \n",
      " ormalization)                                                                                    \n",
      "                                                                                                  \n",
      " batch_normalization_17 (BatchN  (None, 64, 256)     1024        ['re_lu_27[0][0]']               \n",
      " ormalization)                                                                                    \n",
      "                                                                                                  \n",
      " dropout_10 (Dropout)           (None, 64, 256)      0           ['batch_normalization_16[0][0]'] \n",
      "                                                                                                  \n",
      " dropout_11 (Dropout)           (None, 64, 256)      0           ['batch_normalization_17[0][0]'] \n",
      "                                                                                                  \n",
      " add_3 (Add)                    (None, 64, 256)      0           ['dropout_10[0][0]',             \n",
      "                                                                  'dropout_11[0][0]']             \n",
      "                                                                                                  \n",
      " dropout_12 (Dropout)           (None, 64, 256)      0           ['add_3[0][0]']                  \n",
      "                                                                                                  \n",
      " conv1d_30 (Conv1D)             (None, 64, 256)      196864      ['dropout_12[0][0]']             \n",
      "                                                                                                  \n",
      " re_lu_28 (ReLU)                (None, 64, 256)      0           ['conv1d_30[0][0]']              \n",
      "                                                                                                  \n",
      " conv1d_31 (Conv1D)             (None, 64, 256)      196864      ['re_lu_28[0][0]']               \n",
      "                                                                                                  \n",
      " re_lu_29 (ReLU)                (None, 64, 256)      0           ['conv1d_31[0][0]']              \n",
      "                                                                                                  \n",
      " batch_normalization_18 (BatchN  (None, 64, 256)     1024        ['re_lu_29[0][0]']               \n",
      " ormalization)                                                                                    \n",
      "                                                                                                  \n",
      " conv1d_32 (Conv1D)             (None, 64, 256)      196864      ['batch_normalization_18[0][0]'] \n",
      "                                                                                                  \n",
      " re_lu_30 (ReLU)                (None, 64, 256)      0           ['conv1d_32[0][0]']              \n",
      "                                                                                                  \n",
      " conv1d_33 (Conv1D)             (None, 64, 256)      196864      ['re_lu_30[0][0]']               \n",
      "                                                                                                  \n",
      " re_lu_31 (ReLU)                (None, 64, 256)      0           ['conv1d_33[0][0]']              \n",
      "                                                                                                  \n",
      " batch_normalization_19 (BatchN  (None, 64, 256)     1024        ['re_lu_31[0][0]']               \n",
      " ormalization)                                                                                    \n",
      "                                                                                                  \n",
      " conv1d_34 (Conv1D)             (None, 64, 256)      196864      ['batch_normalization_19[0][0]'] \n",
      "                                                                                                  \n",
      " re_lu_32 (ReLU)                (None, 64, 256)      0           ['conv1d_34[0][0]']              \n",
      "                                                                                                  \n",
      " conv1d_35 (Conv1D)             (None, 64, 256)      196864      ['re_lu_32[0][0]']               \n",
      "                                                                                                  \n",
      " conv1d_36 (Conv1D)             (None, 64, 256)      65792       ['dropout_12[0][0]']             \n",
      "                                                                                                  \n",
      " bidirectional (Bidirectional)  (None, 64, 128)      33792       ['input_1[0][0]']                \n",
      "                                                                                                  \n",
      " re_lu_33 (ReLU)                (None, 64, 256)      0           ['conv1d_35[0][0]']              \n",
      "                                                                                                  \n",
      " re_lu_34 (ReLU)                (None, 64, 256)      0           ['conv1d_36[0][0]']              \n",
      "                                                                                                  \n",
      " batch_normalization (BatchNorm  (None, 64, 128)     512         ['bidirectional[0][0]']          \n",
      " alization)                                                                                       \n",
      "                                                                                                  \n",
      " batch_normalization_20 (BatchN  (None, 64, 256)     1024        ['re_lu_33[0][0]']               \n",
      " ormalization)                                                                                    \n",
      "                                                                                                  \n",
      " batch_normalization_21 (BatchN  (None, 64, 256)     1024        ['re_lu_34[0][0]']               \n",
      " ormalization)                                                                                    \n",
      "                                                                                                  \n",
      " dropout (Dropout)              (None, 64, 128)      0           ['batch_normalization[0][0]']    \n",
      "                                                                                                  \n",
      " dropout_13 (Dropout)           (None, 64, 256)      0           ['batch_normalization_20[0][0]'] \n",
      "                                                                                                  \n",
      " dropout_14 (Dropout)           (None, 64, 256)      0           ['batch_normalization_21[0][0]'] \n",
      "                                                                                                  \n",
      " bidirectional_1 (Bidirectional  (None, 64, 512)     788480      ['dropout[0][0]']                \n",
      " )                                                                                                \n",
      "                                                                                                  \n",
      " add_4 (Add)                    (None, 64, 256)      0           ['dropout_13[0][0]',             \n",
      "                                                                  'dropout_14[0][0]']             \n",
      "                                                                                                  \n",
      " batch_normalization_1 (BatchNo  (None, 64, 512)     2048        ['bidirectional_1[0][0]']        \n",
      " rmalization)                                                                                     \n",
      "                                                                                                  \n",
      " dropout_15 (Dropout)           (None, 64, 256)      0           ['add_4[0][0]']                  \n",
      "                                                                                                  \n",
      " conv1d (Conv1D)                (None, 64, 256)      131328      ['batch_normalization_1[0][0]']  \n",
      "                                                                                                  \n",
      " concatenate (Concatenate)      (None, 64, 512)      0           ['dropout_15[0][0]',             \n",
      "                                                                  'conv1d[0][0]']                 \n",
      "                                                                                                  \n",
      " flatten (Flatten)              (None, 32768)        0           ['concatenate[0][0]']            \n",
      "                                                                                                  \n",
      " dropout_16 (Dropout)           (None, 32768)        0           ['flatten[0][0]']                \n",
      "                                                                                                  \n",
      " max (Dense)                    (None, 1)            32769       ['dropout_16[0][0]']             \n",
      "                                                                                                  \n",
      " min (Dense)                    (None, 1)            32769       ['dropout_16[0][0]']             \n",
      "                                                                                                  \n",
      "==================================================================================================\n",
      "Total params: 3,365,730\n",
      "Trainable params: 3,359,074\n",
      "Non-trainable params: 6,656\n",
      "__________________________________________________________________________________________________\n"
     ]
    }
   ],
   "source": [
    "model.summary()"
   ]
  },
  {
   "cell_type": "code",
   "execution_count": 8,
   "metadata": {},
   "outputs": [],
   "source": [
    "converter =tf.lite.TFLiteConverter.from_keras_model(model)"
   ]
  },
  {
   "cell_type": "code",
   "execution_count": 10,
   "metadata": {},
   "outputs": [],
   "source": [
    "converter.optimizations =[tf.lite.Optimize.DEFAULT]"
   ]
  },
  {
   "cell_type": "code",
   "execution_count": 12,
   "metadata": {},
   "outputs": [],
   "source": [
    "converter.target_spec.supported_ops = [tf.lite.OpsSet.TFLITE_BUILTINS, tf.lite.OpsSet.SELECT_TF_OPS]"
   ]
  },
  {
   "cell_type": "code",
   "execution_count": 13,
   "metadata": {},
   "outputs": [
    {
     "name": "stderr",
     "output_type": "stream",
     "text": [
      "WARNING:absl:Found untraced functions such as _jit_compiled_convolution_op, _jit_compiled_convolution_op, _jit_compiled_convolution_op, _jit_compiled_convolution_op, _jit_compiled_convolution_op while saving (showing 5 of 46). These functions will not be directly callable after loading.\n"
     ]
    },
    {
     "name": "stdout",
     "output_type": "stream",
     "text": [
      "INFO:tensorflow:Assets written to: C:\\Users\\ADMINI~1\\AppData\\Local\\Temp\\tmpkio06qld\\assets\n"
     ]
    },
    {
     "name": "stderr",
     "output_type": "stream",
     "text": [
      "INFO:tensorflow:Assets written to: C:\\Users\\ADMINI~1\\AppData\\Local\\Temp\\tmpkio06qld\\assets\n"
     ]
    }
   ],
   "source": [
    "with open(\"model_tflite.tflite\",\"wb\") as f:\n",
    "    f.write(converter.convert())"
   ]
  },
  {
   "cell_type": "code",
   "execution_count": 4,
   "metadata": {},
   "outputs": [],
   "source": [
    "import tensorflow as tf\n",
    "interpreter = tf.lite.Interpreter(\"model_tflite.tflite\")\n",
    "interpreter.allocate_tensors()"
   ]
  },
  {
   "cell_type": "code",
   "execution_count": 5,
   "metadata": {},
   "outputs": [],
   "source": [
    "input_details = interpreter.get_input_details()\n",
    "output_details = interpreter.get_output_details()"
   ]
  },
  {
   "cell_type": "code",
   "execution_count": 6,
   "metadata": {},
   "outputs": [
    {
     "data": {
      "text/plain": [
       "[{'name': 'serving_default_input_1:0',\n",
       "  'index': 0,\n",
       "  'shape': array([ 1, 64,  1]),\n",
       "  'shape_signature': array([-1, 64,  1]),\n",
       "  'dtype': numpy.float32,\n",
       "  'quantization': (0.0, 0),\n",
       "  'quantization_parameters': {'scales': array([], dtype=float32),\n",
       "   'zero_points': array([], dtype=int32),\n",
       "   'quantized_dimension': 0},\n",
       "  'sparsity_parameters': {}}]"
      ]
     },
     "execution_count": 6,
     "metadata": {},
     "output_type": "execute_result"
    }
   ],
   "source": [
    "input_details"
   ]
  },
  {
   "cell_type": "code",
   "execution_count": 7,
   "metadata": {},
   "outputs": [
    {
     "data": {
      "text/plain": [
       "[{'name': 'StatefulPartitionedCall:0',\n",
       "  'index': 351,\n",
       "  'shape': array([1, 1]),\n",
       "  'shape_signature': array([-1,  1]),\n",
       "  'dtype': numpy.float32,\n",
       "  'quantization': (0.0, 0),\n",
       "  'quantization_parameters': {'scales': array([], dtype=float32),\n",
       "   'zero_points': array([], dtype=int32),\n",
       "   'quantized_dimension': 0},\n",
       "  'sparsity_parameters': {}},\n",
       " {'name': 'StatefulPartitionedCall:1',\n",
       "  'index': 352,\n",
       "  'shape': array([1, 1]),\n",
       "  'shape_signature': array([-1,  1]),\n",
       "  'dtype': numpy.float32,\n",
       "  'quantization': (0.0, 0),\n",
       "  'quantization_parameters': {'scales': array([], dtype=float32),\n",
       "   'zero_points': array([], dtype=int32),\n",
       "   'quantized_dimension': 0},\n",
       "  'sparsity_parameters': {}}]"
      ]
     },
     "execution_count": 7,
     "metadata": {},
     "output_type": "execute_result"
    }
   ],
   "source": [
    "output_details"
   ]
  },
  {
   "cell_type": "code",
   "execution_count": 8,
   "metadata": {},
   "outputs": [
    {
     "data": {
      "text/plain": [
       "array([[0.44395927, 0.66781414, 0.06677912, 0.23473246, 0.94821627,\n",
       "        0.07079948, 0.31435782, 0.54415069, 0.59503533, 0.45607879,\n",
       "        0.48688049, 0.49444145, 0.39159317, 0.15479789, 0.45664297,\n",
       "        0.03933922, 0.18458209, 0.7258324 , 0.89928054, 0.54675961,\n",
       "        0.45297707, 0.88660501, 0.64245159, 0.20891946, 0.52637594,\n",
       "        0.03640396, 0.56467148, 0.57538171, 0.83667835, 0.62281711,\n",
       "        0.52986397, 0.94190843, 0.53511526, 0.09999469, 0.46623984,\n",
       "        0.2323737 , 0.54268983, 0.90524892, 0.15905245, 0.47562398,\n",
       "        0.31032806, 0.88084353, 0.42609383, 0.46402744, 0.36876996,\n",
       "        0.81902908, 0.29798531, 0.13097442, 0.93377438, 0.5313319 ,\n",
       "        0.62631491, 0.94963611, 0.99428832, 0.11696301, 0.31879157,\n",
       "        0.65374289, 0.75354945, 0.80623153, 0.61488753, 0.33391801,\n",
       "        0.67162463, 0.37225407, 0.92900314, 0.43794217]])"
      ]
     },
     "execution_count": 8,
     "metadata": {},
     "output_type": "execute_result"
    }
   ],
   "source": [
    "import numpy as np\n",
    "example = np.random.random((1,64))\n",
    "example"
   ]
  },
  {
   "cell_type": "code",
   "execution_count": 9,
   "metadata": {},
   "outputs": [],
   "source": [
    "example = example[...,np.newaxis]"
   ]
  },
  {
   "cell_type": "code",
   "execution_count": 10,
   "metadata": {},
   "outputs": [
    {
     "data": {
      "text/plain": [
       "{'name': 'serving_default_input_1:0',\n",
       " 'index': 0,\n",
       " 'shape': array([ 1, 64,  1]),\n",
       " 'shape_signature': array([-1, 64,  1]),\n",
       " 'dtype': numpy.float32,\n",
       " 'quantization': (0.0, 0),\n",
       " 'quantization_parameters': {'scales': array([], dtype=float32),\n",
       "  'zero_points': array([], dtype=int32),\n",
       "  'quantized_dimension': 0},\n",
       " 'sparsity_parameters': {}}"
      ]
     },
     "execution_count": 10,
     "metadata": {},
     "output_type": "execute_result"
    }
   ],
   "source": [
    "input_details[0]"
   ]
  },
  {
   "cell_type": "code",
   "execution_count": 11,
   "metadata": {},
   "outputs": [],
   "source": [
    "interpreter.set_tensor(input_details[0]['index'], example.astype(np.float32))"
   ]
  },
  {
   "cell_type": "code",
   "execution_count": 12,
   "metadata": {},
   "outputs": [],
   "source": [
    "interpreter.allocate_tensors()"
   ]
  },
  {
   "cell_type": "code",
   "execution_count": 13,
   "metadata": {},
   "outputs": [],
   "source": [
    "tensor_index = interpreter.get_input_details()[0]['index']\n",
    "input_tensor_z= tf.convert_to_tensor(example, np.float32)\n",
    "interpreter.set_tensor(tensor_index, input_tensor_z)"
   ]
  },
  {
   "cell_type": "code",
   "execution_count": 43,
   "metadata": {},
   "outputs": [],
   "source": [
    "max = interpreter.get_tensor(output_details[0]['index'])\n",
    "min = interpreter.get_tensor(output_details[1]['index'])\n"
   ]
  },
  {
   "cell_type": "code",
   "execution_count": 44,
   "metadata": {},
   "outputs": [
    {
     "data": {
      "text/plain": [
       "(array([[64.65507]], dtype=float32), array([[127.89897]], dtype=float32))"
      ]
     },
     "execution_count": 44,
     "metadata": {},
     "output_type": "execute_result"
    }
   ],
   "source": [
    "min ,max"
   ]
  },
  {
   "cell_type": "code",
   "execution_count": 14,
   "metadata": {},
   "outputs": [],
   "source": [
    "interpreter.invoke()"
   ]
  },
  {
   "cell_type": "code",
   "execution_count": 15,
   "metadata": {},
   "outputs": [
    {
     "data": {
      "text/plain": [
       "[{'name': 'StatefulPartitionedCall:0',\n",
       "  'index': 351,\n",
       "  'shape': array([1, 1]),\n",
       "  'shape_signature': array([-1,  1]),\n",
       "  'dtype': numpy.float32,\n",
       "  'quantization': (0.0, 0),\n",
       "  'quantization_parameters': {'scales': array([], dtype=float32),\n",
       "   'zero_points': array([], dtype=int32),\n",
       "   'quantized_dimension': 0},\n",
       "  'sparsity_parameters': {}},\n",
       " {'name': 'StatefulPartitionedCall:1',\n",
       "  'index': 352,\n",
       "  'shape': array([1, 1]),\n",
       "  'shape_signature': array([-1,  1]),\n",
       "  'dtype': numpy.float32,\n",
       "  'quantization': (0.0, 0),\n",
       "  'quantization_parameters': {'scales': array([], dtype=float32),\n",
       "   'zero_points': array([], dtype=int32),\n",
       "   'quantized_dimension': 0},\n",
       "  'sparsity_parameters': {}}]"
      ]
     },
     "execution_count": 15,
     "metadata": {},
     "output_type": "execute_result"
    }
   ],
   "source": [
    "output_details"
   ]
  },
  {
   "cell_type": "code",
   "execution_count": 16,
   "metadata": {},
   "outputs": [],
   "source": [
    "max = interpreter.get_tensor(output_details[0]['index'])\n",
    "min = interpreter.get_tensor(output_details[1]['index'])\n"
   ]
  },
  {
   "cell_type": "code",
   "execution_count": 17,
   "metadata": {},
   "outputs": [
    {
     "name": "stdout",
     "output_type": "stream",
     "text": [
      "min value is  [[73.12287]] max value is  [[129.95854]]\n"
     ]
    }
   ],
   "source": [
    "print(\"min value is \", min , \"max value is \", max)"
   ]
  },
  {
   "cell_type": "code",
   "execution_count": 18,
   "metadata": {},
   "outputs": [
    {
     "data": {
      "text/plain": [
       "(1, 64, 1)"
      ]
     },
     "execution_count": 18,
     "metadata": {},
     "output_type": "execute_result"
    }
   ],
   "source": [
    "example.shape"
   ]
  },
  {
   "cell_type": "code",
   "execution_count": 16,
   "metadata": {},
   "outputs": [
    {
     "data": {
      "text/plain": [
       "(array([[138.27809]], dtype=float32), array([[76.20431]], dtype=float32))"
      ]
     },
     "execution_count": 16,
     "metadata": {},
     "output_type": "execute_result"
    }
   ],
   "source": [
    "max , min"
   ]
  },
  {
   "cell_type": "code",
   "execution_count": 48,
   "metadata": {},
   "outputs": [
    {
     "data": {
      "text/plain": [
       "'2.11.0'"
      ]
     },
     "execution_count": 48,
     "metadata": {},
     "output_type": "execute_result"
    }
   ],
   "source": [
    "tf.__version__"
   ]
  },
  {
   "cell_type": "code",
   "execution_count": 49,
   "metadata": {},
   "outputs": [
    {
     "data": {
      "text/plain": [
       "'1.21.6'"
      ]
     },
     "execution_count": 49,
     "metadata": {},
     "output_type": "execute_result"
    }
   ],
   "source": [
    "np.__version__"
   ]
  },
  {
   "cell_type": "code",
   "execution_count": 50,
   "metadata": {},
   "outputs": [],
   "source": [
    "pd.options.display.max_columns =None\n",
    "pd.options.display.max_rows = None"
   ]
  },
  {
   "cell_type": "code",
   "execution_count": 28,
   "metadata": {},
   "outputs": [],
   "source": [
    "#scale data between -1 and 1\n",
    "min = 0\n",
    "max = 300"
   ]
  },
  {
   "cell_type": "code",
   "execution_count": 56,
   "metadata": {},
   "outputs": [],
   "source": [
    "min = 0\n",
    "max = 300\n",
    "def normalize(list_data):\n",
    "    data = np.array(list_data)\n",
    "    data = (2*(data - min)/(max -min )) - 1\n",
    "    data = data[np.newaxis,:,np.newaxis]\n",
    "    return data"
   ]
  },
  {
   "cell_type": "code",
   "execution_count": 19,
   "metadata": {},
   "outputs": [
    {
     "data": {
      "text/plain": [
       "4.6875"
      ]
     },
     "execution_count": 19,
     "metadata": {},
     "output_type": "execute_result"
    }
   ],
   "source": [
    "300 / 64"
   ]
  },
  {
   "cell_type": "code",
   "execution_count": 21,
   "metadata": {},
   "outputs": [
    {
     "data": {
      "text/plain": [
       "256"
      ]
     },
     "execution_count": 21,
     "metadata": {},
     "output_type": "execute_result"
    }
   ],
   "source": [
    "64*4"
   ]
  },
  {
   "cell_type": "code",
   "execution_count": 57,
   "metadata": {},
   "outputs": [],
   "source": [
    "data_items = [i for i in range(0, 256,4)]"
   ]
  },
  {
   "cell_type": "code",
   "execution_count": 58,
   "metadata": {},
   "outputs": [
    {
     "data": {
      "text/plain": [
       "64"
      ]
     },
     "execution_count": 58,
     "metadata": {},
     "output_type": "execute_result"
    }
   ],
   "source": [
    "len(data_items)"
   ]
  },
  {
   "cell_type": "code",
   "execution_count": 59,
   "metadata": {},
   "outputs": [],
   "source": [
    "data = normalize(data_items)"
   ]
  },
  {
   "cell_type": "code",
   "execution_count": 60,
   "metadata": {},
   "outputs": [
    {
     "data": {
      "text/plain": [
       "-1.0"
      ]
     },
     "execution_count": 60,
     "metadata": {},
     "output_type": "execute_result"
    }
   ],
   "source": [
    "data.min()"
   ]
  },
  {
   "cell_type": "code",
   "execution_count": 61,
   "metadata": {},
   "outputs": [
    {
     "data": {
      "text/plain": [
       "0.6799999999999999"
      ]
     },
     "execution_count": 61,
     "metadata": {},
     "output_type": "execute_result"
    }
   ],
   "source": [
    "data.max()"
   ]
  },
  {
   "cell_type": "code",
   "execution_count": 40,
   "metadata": {},
   "outputs": [
    {
     "data": {
      "text/plain": [
       "(1, 64, 1)"
      ]
     },
     "execution_count": 40,
     "metadata": {},
     "output_type": "execute_result"
    }
   ],
   "source": [
    "data.shape"
   ]
  },
  {
   "cell_type": "code",
   "execution_count": null,
   "metadata": {},
   "outputs": [],
   "source": []
  }
 ],
 "metadata": {
  "kernelspec": {
   "display_name": "base",
   "language": "python",
   "name": "python3"
  },
  "language_info": {
   "codemirror_mode": {
    "name": "ipython",
    "version": 3
   },
   "file_extension": ".py",
   "mimetype": "text/x-python",
   "name": "python",
   "nbconvert_exporter": "python",
   "pygments_lexer": "ipython3",
   "version": "3.9.13"
  },
  "orig_nbformat": 4,
  "vscode": {
   "interpreter": {
    "hash": "57bc2b6ce032b5f0e93daa91901b7ea38a856826ef43aa9e95b6d3999f5310df"
   }
  }
 },
 "nbformat": 4,
 "nbformat_minor": 2
}
